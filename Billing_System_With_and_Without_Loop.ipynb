{
 "cells": [
  {
   "cell_type": "markdown",
   "id": "f8be1cff",
   "metadata": {},
   "source": [
    "##### **Scenario: Grocery Store Bill Calculator**\n",
    "<h6>Problem Statement:\n",
    "Ek choti si grocery shop ka program banao jo user se 3 items ka naam aur unki quantity aur price input le, aur end mein total bill calculate kare. Ismein tumhe variables, data types, aur operators ka use karna hoga.</h6>"
   ]
  },
  {
   "cell_type": "markdown",
   "id": "d7855b56",
   "metadata": {},
   "source": [
    "**Requirements:**       \n",
    "<h6>Har item ka naam (str), price per unit (float) aur quantity (int) store karo.\n",
    "\n",
    "Har item ka total (price * quantity) calculate karo.\n",
    "\n",
    "Total bill nikaalo.\n",
    "\n",
    "10% discount apply karo agar total bill 500 se zyada ho.</h>"
   ]
  },
  {
   "cell_type": "code",
   "execution_count": null,
   "id": "58eccb57",
   "metadata": {},
   "outputs": [
    {
     "name": "stdout",
     "output_type": "stream",
     "text": [
      "Item1 name: suger, \n",
      "Item1 price: 50.0, \n",
      "Item1 quantity 2\n",
      "\n",
      ".\n",
      "Item2 name: oil, \n",
      "Item2 price: 220.0, \n",
      "Item2 quantity 3.\n",
      "\n",
      "\n",
      "Item3 name: soap, \n",
      "Item3 price: 30.0, \n",
      "Item3 quantity 4.\n",
      "\n",
      "\n",
      "Total amount before display: 860.0\n",
      "Discount : 86.0\n",
      "After discount : 774.0\n"
     ]
    }
   ],
   "source": [
    "# ===== Product 1 User Inputs =====\n",
    "# Taking item 1 details from the user\n",
    "product1_name = str(input(\"Enter item 1 name: \"))\n",
    "product1_price = float(input(\"Enter item 1 price: \"))\n",
    "product1_quantity = int(input(\"Enter item 1 quantity: \"))\n",
    "\n",
    "# Displaying item 1 details\n",
    "print(f\"Item1 name: {product1_name}, \\nItem1 price: {product1_price}, \\nItem1 quantity: {product1_quantity}\\n\")\n",
    "\n",
    "# Calculating total for item 1\n",
    "product1_total = product1_price * product1_quantity\n",
    "\n",
    "# ===== Product 2 User Inputs =====\n",
    "# Taking item 2 details from the user\n",
    "product2_name = str(input(\"Enter item 2 name: \"))\n",
    "product2_price = float(input(\"Enter item 2 price: \"))\n",
    "product2_quantity = int(input(\"Enter item 2 quantity: \"))\n",
    "\n",
    "# Displaying item 2 details\n",
    "print(f\"Item2 name: {product2_name}, \\nItem2 price: {product2_price}, \\nItem2 quantity: {product2_quantity}\\n\")\n",
    "\n",
    "# Calculating total for item 2\n",
    "product2_total = product2_price * product2_quantity\n",
    "\n",
    "# ===== Product 3 User Inputs =====\n",
    "# Taking item 3 details from the user\n",
    "product3_name = str(input(\"Enter item 3 name: \"))\n",
    "product3_price = float(input(\"Enter item 3 price: \"))\n",
    "product3_quantity = int(input(\"Enter item 3 quantity: \"))\n",
    "\n",
    "# Displaying item 3 details\n",
    "print(f\"Item3 name: {product3_name}, \\nItem3 price: {product3_price}, \\nItem3 quantity: {product3_quantity}\\n\")\n",
    "\n",
    "# Calculating total for item 3\n",
    "product3_total = product3_price * product3_quantity\n",
    "\n",
    "# ===== Total Calculation =====\n",
    "# Adding totals of all 3 products\n",
    "total_amount = product1_total + product2_total + product3_total\n",
    "\n",
    "# Displaying the total before any discount\n",
    "print(f\"Total amount before discount: {total_amount}\")\n",
    "\n",
    "# ===== Discount Logic =====\n",
    "# If total is more than 500, apply 10% discount\n",
    "if total_amount > 500:\n",
    "    discount = total_amount * 0.10\n",
    "    print(f\"10% Discount: {discount}\")\n",
    "    final_bill = total_amount - discount\n",
    "else:\n",
    "    # No discount applied\n",
    "    print(\"Discount: 0\")\n",
    "    final_bill = total_amount\n",
    "\n",
    "# ===== Final Amount =====\n",
    "# Displaying the final amount after discount\n",
    "print(f\"After discount: {final_bill}\")\n"
   ]
  },
  {
   "cell_type": "markdown",
   "id": "1c896035",
   "metadata": {},
   "source": [
    "##### **Level 2 Challenge: Smart Grocery Bill System**\n",
    "<h6>Same idea — 3 products ka bill banana hai — lekin ab aapko user input se product ki count bhi poochhni hai, aur uske according loop ke through input lena hai. Isse aapka code dynamic banega (na ke har product ke liye alag block likhna).</h6>"
   ]
  },
  {
   "cell_type": "markdown",
   "id": "8961f69d",
   "metadata": {},
   "source": [
    "**Requirements:**\n",
    "<h6>\n",
    "\n",
    "1. User se poochho: kitne products lene hain?              \n",
    "\n",
    "2. Har product ka naam, price, quantity input lo (loop se).    \n",
    "\n",
    "3. Total price har item ka calculate karo.          \n",
    "\n",
    "4. Grand total calculate karo.          \n",
    "\n",
    "5. Agar total > 1000 ho to 15% discount, agar > 500 ho to 10% discount, warna no discount.     \n",
    "      \n",
    "6. Final bill display karo with item-wise details.              \n",
    "</h6>"
   ]
  },
  {
   "cell_type": "code",
   "execution_count": null,
   "id": "2297ca01",
   "metadata": {},
   "outputs": [
    {
     "name": "stdout",
     "output_type": "stream",
     "text": [
      "Item name: suger, \n",
      "Item price: 200.0, \n",
      "Item quantity 3.\n",
      "\n",
      "\n",
      "Item name: oil, \n",
      "Item price: 500.0, \n",
      "Item quantity 5.\n",
      "\n",
      "\n",
      "Item name: soap, \n",
      "Item price: 130.0, \n",
      "Item quantity 5.\n",
      "\n",
      "\n",
      "Total bill before discount : 3750.0\n",
      "15% discount : 562.5\n",
      "Total bill after discount : 3187.5\n"
     ]
    }
   ],
   "source": [
    "# Ask the user how many items to add\n",
    "count = int(input(\"How many items: \"))\n",
    "total_bill = 0  # Initialize the total bill amount\n",
    "\n",
    "# Loop through each item\n",
    "for i in range(count):\n",
    "    # Get product details from the user\n",
    "    product_name = input(\"Enter item name: \")\n",
    "    product_price = float(input(\"Enter item price: \"))\n",
    "    product_quantity = int(input(\"Enter item quantity: \"))\n",
    "\n",
    "    # Calculate total price for the current product\n",
    "    product_total = product_price * product_quantity\n",
    "\n",
    "    # Add product total to the overall bill\n",
    "    total_bill += product_total\n",
    "\n",
    "    # Display product details and total\n",
    "    print(f\"\\nItem name: {product_name}\")\n",
    "    print(f\"Item price: {product_price}\")\n",
    "    print(f\"Item quantity: {product_quantity}\")\n",
    "    print(f\"Item total: {product_total}\\n\")\n",
    "\n",
    "# Print the total bill before applying discount\n",
    "print(f\"\\nTotal bill before discount: {total_bill}\")\n",
    "\n",
    "# Apply discount based on total bill amount\n",
    "if total_bill > 1000:\n",
    "    discount = total_bill * 0.15  # 15% discount for bills over 1000\n",
    "    print(f\"15% discount: {discount}\")\n",
    "elif total_bill > 500:\n",
    "    discount = total_bill * 0.10  # 10% discount for bills over 500\n",
    "    print(f\"10% discount: {discount}\")\n",
    "else:\n",
    "    discount = 0  # No discount for bills 500 or less\n",
    "    print(f\"No discount: {discount}\")\n",
    "\n",
    "# Calculate final bill after discount\n",
    "final_bill = total_bill - discount\n",
    "\n",
    "# Print the final bill amount\n",
    "print(f\"Total bill after discount: {final_bill}\")\n"
   ]
  }
 ],
 "metadata": {
  "kernelspec": {
   "display_name": "exep_env",
   "language": "python",
   "name": "python3"
  },
  "language_info": {
   "codemirror_mode": {
    "name": "ipython",
    "version": 3
   },
   "file_extension": ".py",
   "mimetype": "text/x-python",
   "name": "python",
   "nbconvert_exporter": "python",
   "pygments_lexer": "ipython3",
   "version": "3.13.2"
  }
 },
 "nbformat": 4,
 "nbformat_minor": 5
}
